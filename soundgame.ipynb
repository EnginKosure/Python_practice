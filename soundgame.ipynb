{
 "metadata": {
  "language_info": {
   "codemirror_mode": {
    "name": "ipython",
    "version": 3
   },
   "file_extension": ".py",
   "mimetype": "text/x-python",
   "name": "python",
   "nbconvert_exporter": "python",
   "pygments_lexer": "ipython3",
   "version": 3
  },
  "orig_nbformat": 2
 },
 "nbformat": 4,
 "nbformat_minor": 2,
 "cells": [
  {
   "cell_type": "code",
   "execution_count": null,
   "metadata": {},
   "outputs": [],
   "source": [
    "from playsound import playsound\n",
    "from gtts import gTTS\n",
    "import speech_recognition as sr\n",
    "import os\n",
    "import random"
   ]
  },
  {
   "cell_type": "code",
   "execution_count": null,
   "metadata": {},
   "outputs": [],
   "source": [
    "def speak(string):\n",
    "    tts=gTTS(text=string, lang=\"tr\")\n",
    "    file=\"answer.mp3\"\n",
    "    tts.save(file)\n",
    "    playsound(file)\n",
    "    os.remove(file)"
   ]
  },
  {
   "cell_type": "code",
   "execution_count": null,
   "metadata": {},
   "outputs": [],
   "source": [
    "def game():\n",
    "    speak(\"Şans topu oyununa hoşgeldiniz...\")\n",
    "    kac_kez=int(input(\"kaç kez oynamak istersiniz= \"))\n",
    "    speak(str(kac_kez)+\"kez oynamak isterim...\")\n",
    "    puan=kac_kez*10\n",
    "    speak(str(puan)+\"puanla oyuna başlıyorsunuz...\")\n",
    "    hak=0\n",
    "    for i in range(0,kac_kez):\n",
    "        hak=hak+1\n",
    "        sayi=int(input(\"Lütfen sayıyı giriniz= \"))\n",
    "        speak(str(sayi)+\" sayısını değer olarak girdiniz\")\n",
    "        sayi_tahmin=random.randint(1,100)\n",
    "        if sayi>sayi_tahmin:\n",
    "            puan=puan-10\n",
    "            speak(\"Lütfen daha küçük bir sayı giriniz.\")\n",
    "            speak(\"Sizin girdiğiniz sayı\"+str(sayi))\n",
    "            speak(\"Tahmin edilen sayı\"+str(sayi_tahmin))\n",
    "            speak(\"Puanınız\"+str(puan))\n",
    "        elif sayi<sayi_tahmin:\n",
    "            puan=puan-10\n",
    "            speak(\"Lütfen daha Büyük bir sayı giriniz.\")\n",
    "            speak(\"Sizin girdiğiniz sayı\"+str(sayi))\n",
    "            speak(\"Tahmin edilen sayı\"+str(sayi_tahmin))\n",
    "            speak(\"Puanınız\"+str(puan))\n",
    "        elif sayi==sayi_tahmin:\n",
    "            puan=puan+10\n",
    "            speak(\"Tebrikler doğru tahminde bulundunuz..\")\n",
    "            speak(\"Sizin girdiğiniz sayı\"+str(sayi))\n",
    "            speak(\"Tahmin edilen sayı\"+str(sayi_tahmin))\n",
    "            speak(\"Puanınız\"+str(puan))\n",
    "            \n",
    "        if hak==kac_kez:\n",
    "            speak(\"Hakkınız sona erdi\")\n",
    "            speak(\"Puanınız\"+str(puan))"
   ]
  },
  {
   "cell_type": "code",
   "execution_count": null,
   "metadata": {},
   "outputs": [],
   "source": [
    "game()"
   ]
  }
 ]
}