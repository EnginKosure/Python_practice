{
 "cells": [
  {
   "cell_type": "code",
   "execution_count": 5,
   "metadata": {},
   "outputs": [
    {
     "output_type": "stream",
     "name": "stdout",
     "text": "200$ ile adedi 11$ olan urunden 18 adet alabilirsiniz. \n\n2$ kadar paraniz artar.\n"
    }
   ],
   "source": [
    "# Elinizde 200 dolarla değeri 11 dolar olan malzemeden max kaç adet alabilirsiniz? \n",
    "# Geriye ne kadar paranız kalır?\n",
    "total_money=200\n",
    "item_value=11\n",
    "max_item_buyed=200//11\n",
    "surplus=200%11\n",
    "print('200$ ile adedi 11$ olan urunden {} adet alabilirsiniz. \\n\\n{}$ kadar paraniz artar.'.format(max_item_buyed, surplus))"
   ]
  },
  {
   "cell_type": "code",
   "execution_count": null,
   "metadata": {},
   "outputs": [],
   "source": []
  }
 ],
 "metadata": {
  "language_info": {
   "codemirror_mode": {
    "name": "ipython",
    "version": 3
   },
   "file_extension": ".py",
   "mimetype": "text/x-python",
   "name": "python",
   "nbconvert_exporter": "python",
   "pygments_lexer": "ipython3",
   "version": "3.7.6-final"
  },
  "orig_nbformat": 2,
  "kernelspec": {
   "name": "python3",
   "display_name": "Python 3"
  }
 },
 "nbformat": 4,
 "nbformat_minor": 2
}