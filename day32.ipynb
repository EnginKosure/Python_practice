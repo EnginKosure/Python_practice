{
 "cells": [
  {
   "cell_type": "code",
   "execution_count": 5,
   "metadata": {},
   "outputs": [
    {
     "output_type": "stream",
     "name": "stdout",
     "text": "200$ ile adedi 11$ olan urunden 18 adet alabilirsiniz. \n\n2$ kadar paraniz artar.\n"
    }
   ],
   "source": [
    "# Elinizde 200 dolarla değeri 11 dolar olan malzemeden max kaç adet alabilirsiniz? \n",
    "# Geriye ne kadar paranız kalır?\n",
    "total_money=200\n",
    "item_value=11\n",
    "max_item_buyed=200//11\n",
    "surplus=200%11\n",
    "print('200$ ile adedi 11$ olan urunden {} adet alabilirsiniz. \\n\\n{}$ kadar paraniz artar.'.format(max_item_buyed, surplus))"
   ]
  },
  {
   "cell_type": "code",
   "execution_count": 3,
   "metadata": {
    "tags": []
   },
   "outputs": [
    {
     "output_type": "stream",
     "name": "stdout",
     "text": "[1, 2, 3, 4, 5, 6, 8, 9, 10]\n{7}\n"
    }
   ],
   "source": [
    "num_list = [2, 3, 1, 5, 6, 4, 9, 8, 10] \n",
    "a = sorted(num_list)\n",
    "print(a)\n",
    "list1 = set(range(1, 11))\n",
    "list2 = set(num_list)\n",
    "mis_num = list1.difference(list2) \n",
    "print(mis_num)"
   ]
  },
  {
   "cell_type": "code",
   "execution_count": 8,
   "metadata": {
    "tags": []
   },
   "outputs": [
    {
     "output_type": "stream",
     "name": "stdout",
     "text": "Clarusway is the best\n"
    }
   ],
   "source": [
    "rand_list = [1,[1, 2, \"Clarus\", [2, \"way\"]], \" is the best\"]\n",
    "print(rand_list[1][2] + rand_list[1][3][1] + rand_list[2])"
   ]
  },
  {
   "cell_type": "code",
   "execution_count": 1,
   "metadata": {},
   "outputs": [
    {
     "output_type": "execute_result",
     "data": {
      "text/plain": "False"
     },
     "metadata": {},
     "execution_count": 1
    }
   ],
   "source": [
    "left={'q','a','z','w','s','x','e','d','c','r','t','f','g','v','b'}\n",
    "right={'y','u','h','j','n','m','i','k','o','l', 'p'}\n",
    "word=set('tester')\n",
    "len(right & word)>0 and len(left & word)>0"
   ]
  },
  {
   "cell_type": "code",
   "execution_count": 2,
   "metadata": {},
   "outputs": [
    {
     "output_type": "execute_result",
     "data": {
      "text/plain": "False"
     },
     "metadata": {},
     "execution_count": 2
    }
   ],
   "source": [
    "bool(right & word and left & word)\n"
   ]
  },
  {
   "cell_type": "code",
   "execution_count": null,
   "metadata": {},
   "outputs": [],
   "source": []
  }
 ],
 "metadata": {
  "language_info": {
   "codemirror_mode": {
    "name": "ipython",
    "version": 3
   },
   "file_extension": ".py",
   "mimetype": "text/x-python",
   "name": "python",
   "nbconvert_exporter": "python",
   "pygments_lexer": "ipython3",
   "version": "3.7.6-final"
  },
  "orig_nbformat": 2,
  "kernelspec": {
   "name": "python3",
   "display_name": "Python 3"
  }
 },
 "nbformat": 4,
 "nbformat_minor": 2
}