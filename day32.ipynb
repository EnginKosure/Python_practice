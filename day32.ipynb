{
 "cells": [
  {
   "cell_type": "code",
   "execution_count": 5,
   "metadata": {},
   "outputs": [
    {
     "output_type": "stream",
     "name": "stdout",
     "text": "200$ ile adedi 11$ olan urunden 18 adet alabilirsiniz. \n\n2$ kadar paraniz artar.\n"
    }
   ],
   "source": [
    "# Elinizde 200 dolarla değeri 11 dolar olan malzemeden max kaç adet alabilirsiniz? \n",
    "# Geriye ne kadar paranız kalır?\n",
    "total_money=200\n",
    "item_value=11\n",
    "max_item_buyed=200//11\n",
    "surplus=200%11\n",
    "print('200$ ile adedi 11$ olan urunden {} adet alabilirsiniz. \\n\\n{}$ kadar paraniz artar.'.format(max_item_buyed, surplus))"
   ]
  },
  {
   "cell_type": "code",
   "execution_count": 2,
   "metadata": {},
   "outputs": [
    {
     "output_type": "error",
     "ename": "SyntaxError",
     "evalue": "invalid syntax (<ipython-input-2-e9e1f3116c91>, line 6)",
     "traceback": [
      "\u001b[0;36m  File \u001b[0;32m\"<ipython-input-2-e9e1f3116c91>\"\u001b[0;36m, line \u001b[0;32m6\u001b[0m\n\u001b[0;31m    mis_num = list1.difference(list2) print(mis_num)\u001b[0m\n\u001b[0m                                          ^\u001b[0m\n\u001b[0;31mSyntaxError\u001b[0m\u001b[0;31m:\u001b[0m invalid syntax\n"
     ]
    }
   ],
   "source": [
    "num_list = [2, 3, 1, 5, 6, 4, 9, 8, 10] \n",
    "a = sorted(num_list)\n",
    "print(a)\n",
    "list1 = set(range(1, 11))\n",
    "list2 = set(num_list)\n",
    "mis_num = list1.difference(list2) \n",
    "print(mis_num)"
   ]
  },
  {
   "cell_type": "code",
   "execution_count": null,
   "metadata": {},
   "outputs": [],
   "source": []
  }
 ],
 "metadata": {
  "language_info": {
   "codemirror_mode": {
    "name": "ipython",
    "version": 3
   },
   "file_extension": ".py",
   "mimetype": "text/x-python",
   "name": "python",
   "nbconvert_exporter": "python",
   "pygments_lexer": "ipython3",
   "version": "3.7.6-final"
  },
  "orig_nbformat": 2,
  "kernelspec": {
   "name": "python3",
   "display_name": "Python 3"
  }
 },
 "nbformat": 4,
 "nbformat_minor": 2
}