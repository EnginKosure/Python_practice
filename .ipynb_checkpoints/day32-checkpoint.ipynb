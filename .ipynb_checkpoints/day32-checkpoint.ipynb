{
 "cells": [
  {
   "cell_type": "code",
   "execution_count": 1,
   "metadata": {},
   "outputs": [
    {
     "name": "stdout",
     "output_type": "stream",
     "text": [
      "200 $ ile adedi 11$ olan urunden 18 adet alabilirsiniz2 kadar paraniz artar\n"
     ]
    }
   ],
   "source": [
    "# Elinizde 200 dolarla değeri 11 dolar olan malzemeden max kaç adet alabilirsiniz? \n",
    "# Geriye ne kadar paranız kalır?\n",
    "total_money=200\n",
    "item_value=11\n",
    "max_item_buyed=200//11\n",
    "surplus=200%11\n",
    "print('200 $ ile adedi 11$ olan urunden {} adet alabilirsiniz\\\n",
    "{} kadar paraniz artar'.format(max_item_buyed, surplus))"
   ]
  },
  {
   "cell_type": "code",
   "execution_count": null,
   "metadata": {},
   "outputs": [],
   "source": []
  }
 ],
 "metadata": {
  "kernelspec": {
   "display_name": "Python 3",
   "language": "python",
   "name": "python3"
  },
  "language_info": {
   "codemirror_mode": {
    "name": "ipython",
    "version": 3
   },
   "file_extension": ".py",
   "mimetype": "text/x-python",
   "name": "python",
   "nbconvert_exporter": "python",
   "pygments_lexer": "ipython3",
   "version": "3.7.6"
  }
 },
 "nbformat": 4,
 "nbformat_minor": 2
}
