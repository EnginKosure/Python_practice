{
 "cells": [
  {
   "cell_type": "code",
   "execution_count": null,
   "source": [
    "# !pip install google-cloud-bigquery==1.25.0"
   ],
   "outputs": [],
   "metadata": {}
  },
  {
   "cell_type": "code",
   "execution_count": null,
   "source": [
    "query=\"\"\"\n",
    "SELECT\n",
    "  departure_delay,\n",
    "  COUNT(1) AS num_flights,\n",
    "  APPROX_QUANTILES(arrival_delay, 10) AS arrival_delay_deciles\n",
    "FROM\n",
    "  `bigquery-samples.airline_ontime_data.flights`\n",
    "GROUP BY\n",
    "  departure_delay\n",
    "HAVING\n",
    "  num_flights > 100\n",
    "ORDER BY\n",
    "  departure_delay ASC\n",
    "\"\"\"\n",
    "\n",
    "from google.cloud import bigquery\n",
    "df = bigquery.Client().query(query).to_dataframe()\n",
    "df.head()"
   ],
   "outputs": [],
   "metadata": {}
  },
  {
   "cell_type": "code",
   "execution_count": null,
   "source": [
    "import pandas as pd\n",
    "percentiles = df['arrival_delay_deciles'].apply(pd.Series)\n",
    "percentiles = percentiles.rename(columns = lambda x : str(x*10) + \"%\")\n",
    "df = pd.concat([df['departure_delay'], percentiles], axis=1)\n",
    "df.head()"
   ],
   "outputs": [],
   "metadata": {}
  },
  {
   "cell_type": "code",
   "execution_count": null,
   "source": [
    "without_extremes = df.drop(['0%', '100%'], 1)\n",
    "without_extremes.plot(x='departure_delay', xlim=(-30,50), ylim=(-50,50));"
   ],
   "outputs": [],
   "metadata": {}
  }
 ],
 "metadata": {
  "orig_nbformat": 4,
  "language_info": {
   "name": "python",
   "version": "3.8.8"
  },
  "kernelspec": {
   "name": "python3",
   "display_name": "Python 3.8.8 64-bit ('base': conda)"
  },
  "interpreter": {
   "hash": "c3b20be9f4a62c269bc7af7e7b20ba3d150a18e67692d1121c7f1dd42c974755"
  }
 },
 "nbformat": 4,
 "nbformat_minor": 2
}