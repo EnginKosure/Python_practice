{
 "cells": [
  {
   "cell_type": "code",
   "execution_count": 1,
   "metadata": {},
   "outputs": [
    {
     "name": "stdout",
     "output_type": "stream",
     "text": [
      "Enter the first number: 34\n",
      "Enter the second number: 23\n",
      "Enter the third number: 12\n",
      "The multiplication of 34, 23 and 12 is 9384\n",
      "The multiplication of 34, 23 and 12 is 9384\n",
      "The multiplication of 34 , 23 and 12 is 9384\n"
     ]
    }
   ],
   "source": [
    "# Kullanıcıdan aldığınız 3 tane sayıyı çarparak ekrana yazdırın. \n",
    "# Ekrana yazdırma işlemini **format** metoduyla yapmaya çalışın.\n",
    "num1 = int(input('Enter the first number: '))  # '5' -> 5\n",
    "num2 = int(input('Enter the second number: '))\n",
    "num3 = int(input('Enter the third number: '))\n",
    "result = num1*num2*num3\n",
    "\n",
    "# The multiplication of 2, 4 and 5 is 40\n",
    "print(f'The multiplication of {num1}, {num2} and {num3} is {result}')\n",
    "print('The multiplication of {}, {} and {} is {}'.format(\n",
    "    num1, num2, num3, result))\n",
    "print('%s %d %s %d %s %d %s %d' % ('The multiplication of',\n",
    "                                   num1, ',', num2, 'and', num3, 'is', result))"
   ]
  },
  {
   "cell_type": "code",
   "execution_count": 5,
   "metadata": {},
   "outputs": [
    {
     "name": "stdout",
     "output_type": "stream",
     "text": [
      "How your height in cm: 190\n",
      "Enter your weight in kg: 80\n",
      "Your body mass index is 22.16\n",
      "Normal\n"
     ]
    }
   ],
   "source": [
    "# \"Kullanıcıdan aldığınız *boy* ve *kilo* değerlerine göre kullanıcının beden kitle indeksini bulun.\n",
    "# Vücut Kitle Endeksi Formülü= kilo/((boy(cm)/100)kare2)\n",
    "height = float(input('How your height in cm: '))\n",
    "weight = float(input('Enter your weight in kg: '))\n",
    "\n",
    "bmi = weight/(height/100)**2\n",
    "print('Your body mass index is {:.2f}'.format(bmi))\n",
    "\n",
    "if bmi < 18.4:\n",
    "    print('Zayif')\n",
    "elif 18.5 < bmi < 24.9:\n",
    "    print('Normal')\n",
    "elif 25 < bmi < 29.9:\n",
    "    print('Fazla kilolu')\n",
    "elif 34 < bmi < 34.9:\n",
    "    print('Obez')\n",
    "elif 35 < bmi < 39.9:\n",
    "    print('Morbid obez')\n",
    "elif bmi >= 40:\n",
    "    print('Super obez')"
   ]
  },
  {
   "cell_type": "code",
   "execution_count": 4,
   "metadata": {},
   "outputs": [
    {
     "name": "stdout",
     "output_type": "stream",
     "text": [
      "200$ ile adedi 11$ olan urunden 18 adet alabilirsiniz.\n",
      "2$ kadar paraniz artar.\n"
     ]
    }
   ],
   "source": [
    "# Elinizde 200 dolarla değeri 11 dolar olan malzemeden max kaç adet alabilirsiniz? \n",
    "# Geriye ne kadar paranız kalır?\n",
    "total_money=200\n",
    "item_value=11\n",
    "max_item_buyed=200//11\n",
    "surplus=200%11\n",
    "print('200$ ile adedi 11$ olan urunden {} adet alabilirsiniz.\\\n",
    "\\n{}$ kadar paraniz artar.'.format(max_item_buyed, surplus))"
   ]
  },
  {
   "cell_type": "code",
   "execution_count": 12,
   "metadata": {},
   "outputs": [
    {
     "name": "stdout",
     "output_type": "stream",
     "text": [
      "Enter the first number: 12\n",
      "Enter the second number: 56\n",
      "reversed order \n",
      "first number is: 56 \n",
      "second number is: 12\n"
     ]
    }
   ],
   "source": [
    "# Kullanıcıdan iki tane sayı isteyin ve bu sayıların değerlerini birbirleriyle değiştirin.\n",
    "num_1=int(input('Enter the first number: '))\n",
    "num_2=int(input('Enter the second number: '))\n",
    "temp_var=num_1\n",
    "num_1=num_2\n",
    "num_2=temp_var\n",
    "#  num_1, num_2=num_2,num_1\n",
    "print('reversed order \\nfirst number is: {} \\nsecond number is: {}'.format(num_1,num_2))"
   ]
  },
  {
   "cell_type": "code",
   "execution_count": null,
   "metadata": {},
   "outputs": [],
   "source": []
  }
 ],
 "metadata": {
  "kernelspec": {
   "display_name": "Python 3",
   "language": "python",
   "name": "python3"
  },
  "language_info": {
   "codemirror_mode": {
    "name": "ipython",
    "version": 3
   },
   "file_extension": ".py",
   "mimetype": "text/x-python",
   "name": "python",
   "nbconvert_exporter": "python",
   "pygments_lexer": "ipython3",
   "version": "3.7.6"
  }
 },
 "nbformat": 4,
 "nbformat_minor": 2
}
